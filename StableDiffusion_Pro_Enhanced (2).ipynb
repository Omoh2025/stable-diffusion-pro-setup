{
  "nbformat": 4,
  "nbformat_minor": 0,
  "metadata": {
    "colab": {
      "name": "StableDiffusion_Pro_Template.ipynb",
      "provenance": [],
      "collapsed_sections": [],
      "authorship_tag": "generated",
      "include_colab_link": true
    },
    "kernelspec": {
      "name": "python3",
      "display_name": "Python 3"
    },
    "language_info": {
      "name": "python"
    }
  },
  "cells": [
    {
      "cell_type": "markdown",
      "metadata": {},
      "source": [
        "# \ud83d\ude80 Stable Diffusion Pro Setup (DreamShaper v8 + RealisticVision v6)"
      ]
    },
    {
      "cell_type": "code",
      "metadata": {},
      "source": [
        "#@title \ud83d\udd27 Install Stable Diffusion WebUI\n",
        "!git clone https://github.com/AUTOMATIC1111/stable-diffusion-webui /content/stable-diffusion-webui\n",
        "%cd /content/stable-diffusion-webui\n",
        "!git clone https://github.com/camenduru/stable-diffusion-webui-colab-scripts scripts"
      ],
      "execution_count": null,
      "outputs": []
    },
    {
      "cell_type": "code",
      "metadata": {},
      "source": [
        "#@title \u2705 Create model folder\n",
        "!mkdir -p /content/stable-diffusion-webui/models/Stable-diffusion"
      ],
      "execution_count": null,
      "outputs": []
    },
    {
      "cell_type": "code",
      "metadata": {},
      "source": [
        "#@title \u2b07\ufe0f Download DreamShaper v8\n",
        "!wget -O /content/stable-diffusion-webui/models/Stable-diffusion/DreamShaper_8.safetensors https://civitai-delivery-worker.s3-us-west-2.amazonaws.com/model/128713/DreamShaper_8.safetensors"
      ],
      "execution_count": null,
      "outputs": []
    },
    {
      "cell_type": "code",
      "metadata": {},
      "source": [
        "#@title \u2b07\ufe0f Download Realistic Vision v6.0\n",
        "!wget -O /content/stable-diffusion-webui/models/Stable-diffusion/RealisticVisionV6.safetensors https://civitai-delivery-worker.s3.us-west-2.amazonaws.com/model/140130/realisticVisionV60B1.safetensors"
      ],
      "execution_count": null,
      "outputs": []
    },
    {
      "cell_type": "code",
      "metadata": {},
      "source": [
        "#@title \ud83d\ude80 Launch WebUI\n",
        "!COMMANDLINE_ARGS=\"--share --xformers\" REQS_FILE=requirements.txt python launch.py"
      ],
      "execution_count": null,
      "outputs": []
    }
  ]
}